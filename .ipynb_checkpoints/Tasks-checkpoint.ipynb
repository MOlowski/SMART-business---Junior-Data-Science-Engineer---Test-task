{
 "cells": [
  {
   "cell_type": "code",
   "execution_count": 2,
   "id": "b9ec162f-f3f0-4a94-b96a-a8171f29ebe3",
   "metadata": {
    "collapsed": true,
    "jupyter": {
     "outputs_hidden": true
    },
    "scrolled": true
   },
   "outputs": [
    {
     "name": "stdout",
     "output_type": "stream",
     "text": [
      "CUSTOMERS \n",
      "\n",
      "\n",
      "GEOLOCATION \n",
      "\n",
      "\n",
      "ORDER_ITEMS \n",
      "\n",
      "\n",
      "ORDER_PAYMENTS \n",
      "\n",
      "\n",
      "ORDER_REVIEWS \n",
      "\n",
      "\n",
      "ORDERS \n",
      "\n",
      "\n",
      "PRODUCT_CATEGORY_NAME_TRANSLATION \n",
      "\n",
      "\n",
      "PRODUCTS \n",
      "\n",
      "\n",
      "SELLERS \n",
      "\n",
      "\n"
     ]
    }
   ],
   "source": [
    "import pandas as pd\n",
    "\n",
    "path = 'OneDrive_1_14/S_Data/'\n",
    "endpoint = '.csv'\n",
    "\n",
    "csvs = ['customers', \n",
    "        'geolocation', \n",
    "        'order_items', \n",
    "        'order_payments', \n",
    "        'order_reviews', \n",
    "        'orders', \n",
    "        'product_category_name_translation',\n",
    "        'products',\n",
    "        'sellers']\n",
    "dfs = {}\n",
    "\n",
    "for name in csvs:\n",
    "    print(name.upper(),'\\n\\n')\n",
    "    dfs[name] = pd.read_csv(path+name+endpoint)\n",
    "    "
   ]
  },
  {
   "cell_type": "markdown",
   "id": "9d91489b-2b80-4420-bf62-053a89358068",
   "metadata": {},
   "source": [
    "# Task 1"
   ]
  },
  {
   "cell_type": "markdown",
   "id": "4fb02869-1c32-4722-98aa-d4130e379cb9",
   "metadata": {},
   "source": [
    "### To do"
   ]
  },
  {
   "cell_type": "markdown",
   "id": "0726d906-65f9-43f3-9d4d-980655bad458",
   "metadata": {},
   "source": [
    "#### get reviews in function same as other values in other df then merge dfs"
   ]
  },
  {
   "cell_type": "markdown",
   "id": "be2f0014-3e35-419d-9ecb-667f4c46927a",
   "metadata": {},
   "source": [
    "##### (done) english name, \n",
    "##### (done) average delivery time, \n",
    "##### (done) average delivery time from last 14 days,\n",
    "##### (done) average product price,\n",
    "##### (done) actual product price,\n",
    "##### (done) sales from last 14 days, \n",
    "##### (done) total sale per seller from 14 days, \n",
    "##### reviews since products sale started, \n",
    "##### number of reviews added in 14 days, \n",
    "##### average fracht_val in past 14 days"
   ]
  },
  {
   "cell_type": "markdown",
   "id": "6e535201-1b8a-4452-be09-d0236b0b2014",
   "metadata": {},
   "source": [
    "### Code"
   ]
  },
  {
   "cell_type": "markdown",
   "id": "d0e3480c-50ce-4fcb-a9eb-f8ce4a9ecd9f",
   "metadata": {
    "jp-MarkdownHeadingCollapsed": true
   },
   "source": [
    "#### 1. English name"
   ]
  },
  {
   "cell_type": "code",
   "execution_count": 158,
   "id": "d2aef4bc-5d7a-4880-a556-593462e98448",
   "metadata": {
    "collapsed": true,
    "jupyter": {
     "outputs_hidden": true
    },
    "scrolled": true
   },
   "outputs": [
    {
     "data": {
      "text/html": [
       "<div>\n",
       "<style scoped>\n",
       "    .dataframe tbody tr th:only-of-type {\n",
       "        vertical-align: middle;\n",
       "    }\n",
       "\n",
       "    .dataframe tbody tr th {\n",
       "        vertical-align: top;\n",
       "    }\n",
       "\n",
       "    .dataframe thead th {\n",
       "        text-align: right;\n",
       "    }\n",
       "</style>\n",
       "<table border=\"1\" class=\"dataframe\">\n",
       "  <thead>\n",
       "    <tr style=\"text-align: right;\">\n",
       "      <th></th>\n",
       "      <th>product_id</th>\n",
       "      <th>product_category_name</th>\n",
       "      <th>product_name_lenght</th>\n",
       "      <th>product_description_lenght</th>\n",
       "      <th>product_photos_qty</th>\n",
       "      <th>product_weight_g</th>\n",
       "      <th>product_length_cm</th>\n",
       "      <th>product_height_cm</th>\n",
       "      <th>product_width_cm</th>\n",
       "    </tr>\n",
       "  </thead>\n",
       "  <tbody>\n",
       "    <tr>\n",
       "      <th>0</th>\n",
       "      <td>1e9e8ef04dbcff4541ed26657ea517e5</td>\n",
       "      <td>perfumaria</td>\n",
       "      <td>40.0</td>\n",
       "      <td>287.0</td>\n",
       "      <td>1.0</td>\n",
       "      <td>225.0</td>\n",
       "      <td>16.0</td>\n",
       "      <td>10.0</td>\n",
       "      <td>14.0</td>\n",
       "    </tr>\n",
       "    <tr>\n",
       "      <th>1</th>\n",
       "      <td>3aa071139cb16b67ca9e5dea641aaa2f</td>\n",
       "      <td>artes</td>\n",
       "      <td>44.0</td>\n",
       "      <td>276.0</td>\n",
       "      <td>1.0</td>\n",
       "      <td>1000.0</td>\n",
       "      <td>30.0</td>\n",
       "      <td>18.0</td>\n",
       "      <td>20.0</td>\n",
       "    </tr>\n",
       "    <tr>\n",
       "      <th>2</th>\n",
       "      <td>96bd76ec8810374ed1b65e291975717f</td>\n",
       "      <td>esporte_lazer</td>\n",
       "      <td>46.0</td>\n",
       "      <td>250.0</td>\n",
       "      <td>1.0</td>\n",
       "      <td>154.0</td>\n",
       "      <td>18.0</td>\n",
       "      <td>9.0</td>\n",
       "      <td>15.0</td>\n",
       "    </tr>\n",
       "    <tr>\n",
       "      <th>3</th>\n",
       "      <td>cef67bcfe19066a932b7673e239eb23d</td>\n",
       "      <td>bebes</td>\n",
       "      <td>27.0</td>\n",
       "      <td>261.0</td>\n",
       "      <td>1.0</td>\n",
       "      <td>371.0</td>\n",
       "      <td>26.0</td>\n",
       "      <td>4.0</td>\n",
       "      <td>26.0</td>\n",
       "    </tr>\n",
       "    <tr>\n",
       "      <th>4</th>\n",
       "      <td>9dc1a7de274444849c219cff195d0b71</td>\n",
       "      <td>utilidades_domesticas</td>\n",
       "      <td>37.0</td>\n",
       "      <td>402.0</td>\n",
       "      <td>4.0</td>\n",
       "      <td>625.0</td>\n",
       "      <td>20.0</td>\n",
       "      <td>17.0</td>\n",
       "      <td>13.0</td>\n",
       "    </tr>\n",
       "  </tbody>\n",
       "</table>\n",
       "</div>"
      ],
      "text/plain": [
       "                         product_id  product_category_name  \\\n",
       "0  1e9e8ef04dbcff4541ed26657ea517e5             perfumaria   \n",
       "1  3aa071139cb16b67ca9e5dea641aaa2f                  artes   \n",
       "2  96bd76ec8810374ed1b65e291975717f          esporte_lazer   \n",
       "3  cef67bcfe19066a932b7673e239eb23d                  bebes   \n",
       "4  9dc1a7de274444849c219cff195d0b71  utilidades_domesticas   \n",
       "\n",
       "   product_name_lenght  product_description_lenght  product_photos_qty  \\\n",
       "0                 40.0                       287.0                 1.0   \n",
       "1                 44.0                       276.0                 1.0   \n",
       "2                 46.0                       250.0                 1.0   \n",
       "3                 27.0                       261.0                 1.0   \n",
       "4                 37.0                       402.0                 4.0   \n",
       "\n",
       "   product_weight_g  product_length_cm  product_height_cm  product_width_cm  \n",
       "0             225.0               16.0               10.0              14.0  \n",
       "1            1000.0               30.0               18.0              20.0  \n",
       "2             154.0               18.0                9.0              15.0  \n",
       "3             371.0               26.0                4.0              26.0  \n",
       "4             625.0               20.0               17.0              13.0  "
      ]
     },
     "execution_count": 158,
     "metadata": {},
     "output_type": "execute_result"
    }
   ],
   "source": [
    "dfs['products'].head()"
   ]
  },
  {
   "cell_type": "code",
   "execution_count": null,
   "id": "677b04e8-8c38-44b2-b628-138e4325688f",
   "metadata": {},
   "outputs": [],
   "source": [
    "dfs['product_category_name_translation'].head()"
   ]
  },
  {
   "cell_type": "code",
   "execution_count": 159,
   "id": "44a2f321-178d-4f27-895d-30d91400e7fb",
   "metadata": {},
   "outputs": [],
   "source": [
    "## get english category name\n",
    "\n",
    "dfs['products'] = dfs['products'].merge(dfs['product_category_name_translation'],\n",
    "                                        how = 'inner',\n",
    "                                        on = 'product_category_name')"
   ]
  },
  {
   "cell_type": "markdown",
   "id": "6290205e-d68b-40fa-8c34-e264ecc5baae",
   "metadata": {
    "jp-MarkdownHeadingCollapsed": true
   },
   "source": [
    "#### 2. Add missing delivery dates, get necessary date for subset"
   ]
  },
  {
   "cell_type": "code",
   "execution_count": null,
   "id": "daae76aa-382e-411f-9464-dbc20f777df9",
   "metadata": {},
   "outputs": [],
   "source": [
    "dfs['orders'].head()"
   ]
  },
  {
   "cell_type": "code",
   "execution_count": null,
   "id": "b08b6726-f7f2-4d7b-9ec4-c669107c9358",
   "metadata": {},
   "outputs": [],
   "source": [
    "dfs['orders']['order_status'].unique()"
   ]
  },
  {
   "cell_type": "code",
   "execution_count": 160,
   "id": "f4c3032f-7d7d-4b6a-99e9-db4683cc36cb",
   "metadata": {},
   "outputs": [],
   "source": [
    "## get only valid orders\n",
    "dfs['orders'] = dfs['orders'].loc[(dfs['orders']['order_status'] != 'canceled') & \n",
    "                                  (dfs['orders']['order_status'] != 'unavailable')]"
   ]
  },
  {
   "cell_type": "code",
   "execution_count": 168,
   "id": "881e4e90-3dbf-4275-b722-a6530473d63e",
   "metadata": {
    "collapsed": true,
    "jupyter": {
     "outputs_hidden": true
    },
    "scrolled": true
   },
   "outputs": [
    {
     "name": "stdout",
     "output_type": "stream",
     "text": [
      "order_id                           0\n",
      "order_item_id                      8\n",
      "product_id                         8\n",
      "seller_id                          8\n",
      "shipping_limit_date                8\n",
      "price                              8\n",
      "freight_value                      8\n",
      "customer_id                        0\n",
      "order_status                       0\n",
      "order_purchase_timestamp           0\n",
      "order_approved_at                 20\n",
      "order_delivered_carrier_date     728\n",
      "order_delivered_customer_date      0\n",
      "order_estimated_delivery_date      0\n",
      "dtype: int64\n"
     ]
    }
   ],
   "source": [
    "print(dfs['orders'].isna().sum())"
   ]
  },
  {
   "cell_type": "code",
   "execution_count": 3,
   "id": "dbd9fdce-65c0-4255-a32f-881a55bf7a4c",
   "metadata": {},
   "outputs": [
    {
     "name": "stdout",
     "output_type": "stream",
     "text": [
      "order_id                         object\n",
      "customer_id                      object\n",
      "order_status                     object\n",
      "order_purchase_timestamp         object\n",
      "order_approved_at                object\n",
      "order_delivered_carrier_date     object\n",
      "order_delivered_customer_date    object\n",
      "order_estimated_delivery_date    object\n",
      "dtype: object \n",
      " review_id                  object\n",
      "order_id                   object\n",
      "review_score                int64\n",
      "review_comment_title       object\n",
      "review_comment_message     object\n",
      "review_creation_date       object\n",
      "review_answer_timestamp    object\n",
      "dtype: object\n"
     ]
    }
   ],
   "source": [
    "print(dfs['orders'].dtypes,\n",
    "      '\\n', \n",
    "      dfs['order_reviews'].dtypes)"
   ]
  },
  {
   "cell_type": "code",
   "execution_count": 163,
   "id": "11670e78-0c47-43fe-9f35-150b3716e1be",
   "metadata": {},
   "outputs": [],
   "source": [
    "## merge dataframes for product id, price, number of ordered items, reviews\n",
    "dfs['orders'] = dfs['order_items'].merge(dfs['orders'], on = 'order_id', how = 'right')\n",
    "dfs['orders'] = dfs['orders'].merge(dfs['order_reviews'], on='order_id', how ='left')"
   ]
  },
  {
   "cell_type": "code",
   "execution_count": 167,
   "id": "2d89049f-2c70-48c4-96e6-204fbbf70cf6",
   "metadata": {
    "collapsed": true,
    "jupyter": {
     "outputs_hidden": true
    }
   },
   "outputs": [
    {
     "name": "stderr",
     "output_type": "stream",
     "text": [
      "/var/folders/bz/m_9l75x14kz_37vfj8r34b2r0000gn/T/ipykernel_10790/134249484.py:5: FutureWarning: A value is trying to be set on a copy of a DataFrame or Series through chained assignment using an inplace method.\n",
      "The behavior will change in pandas 3.0. This inplace method will never work because the intermediate object on which we are setting values always behaves as a copy.\n",
      "\n",
      "For example, when doing 'df[col].method(value, inplace=True)', try using 'df.method({col: value}, inplace=True)' or df[col] = df[col].method(value) instead, to perform the operation inplace on the original object.\n",
      "\n",
      "\n",
      "  dfs['orders']['order_delivered_customer_date'].ffill(inplace=True)\n"
     ]
    }
   ],
   "source": [
    "dfs['orders']['order_purchase_timestamp'] = pd.to_datetime(dfs['orders']['order_purchase_timestamp'])\n",
    "dfs['orders']['order_delivered_customer_date'] = pd.to_datetime(dfs['orders']['order_delivered_customer_date'])\n",
    "dfs['orders']['review_creation_date'] = pd.to_datetime(dfs['orders']['review_creation_date'])\n",
    "\n",
    "## fill nan values after grouping by product id so values are more reliable\n",
    "dfs['orders'].sort_values(by='product_id', inplace=True)\n",
    "dfs['orders']['order_delivered_customer_date'].ffill(inplace=True)"
   ]
  },
  {
   "cell_type": "code",
   "execution_count": 169,
   "id": "f020c555-1028-4bf7-b318-41aec7e6018f",
   "metadata": {},
   "outputs": [],
   "source": [
    "## get order date, review date, delivery date and delivery time\n",
    "\n",
    "dfs['orders']['purchase_year'] = dfs['orders']['order_purchase_timestamp'].dt.year\n",
    "dfs['orders']['purchase_day'] = dfs['orders']['order_purchase_timestamp'].dt.dayofyear\n",
    "\n",
    "dfs['orders']['review_year'] = dfs['orders']['review_creation_date'].dt.year\n",
    "dfs['orders']['review_day'] = dfs['orders']['review_creation_date'].dt.dayofyear\n",
    "\n",
    "\n",
    "dfs['orders']['delivery_year'] = dfs['orders']['order_delivered_customer_date'].dt.year\n",
    "dfs['orders']['delivery_day'] = dfs['orders']['order_delivered_customer_date'].dt.dayofyear\n",
    "\n",
    "## calculate delivery time (check if delivery and purchase were made in same year)\n",
    "dfs['orders']['delivery_time'] = ((dfs['orders']['delivery_year'] - dfs['orders']['purchase_year'])*365 + \n",
    "                                 dfs['orders']['delivery_day'] - dfs['orders']['delivery_day'])\n",
    "\n",
    "## if delivery and purchase years were different check if purchase year was leap\n",
    "for index, row in dfs['orders'].iterrows():\n",
    "    if row['purchase_year'] != row['delivery_year']:\n",
    "        if row['purchase_year']%4 ==0 and row['purchase_year']%100 == 0 and row['purchase_year']%400 == 0:\n",
    "            dfs['orders'].at[index, 'delivery_time'] += 1"
   ]
  },
  {
   "cell_type": "markdown",
   "id": "d9a4fe5e-37b0-4e7a-afee-372fa8caecf6",
   "metadata": {},
   "source": [
    "#### 3."
   ]
  },
  {
   "cell_type": "code",
   "execution_count": 170,
   "id": "818ac581-e992-41ad-b6cf-1f91f5526f20",
   "metadata": {},
   "outputs": [],
   "source": [
    "## get data from 14 days\n",
    "def is_leap(year):\n",
    "    if year%4 == 0 and year%100 == 0 and year%400 == 0:\n",
    "        return True\n",
    "    else:\n",
    "        return False"
   ]
  },
  {
   "cell_type": "code",
   "execution_count": 171,
   "id": "522bea02-2019-4078-b5ac-ea419568d6d1",
   "metadata": {},
   "outputs": [],
   "source": [
    "## get end of subset (check if it ends in following year)\n",
    "def get_end(year, day_s, sub_size):\n",
    "    \n",
    "    if is_leap(year):\n",
    "        if day_s > 366 - sub_size:\n",
    "            day_e = 366 - day_s\n",
    "            year_e = year + 1\n",
    "        else:\n",
    "            day_e = day_s + sub_size\n",
    "            year_e = year\n",
    "    else:\n",
    "        if day_s > 365 - sub_size:\n",
    "            day_e = 365 - day_s\n",
    "            year_e = year + 1\n",
    "        else:\n",
    "            day_e = day_s + sub_size\n",
    "            year_e = year\n",
    "    return day_s, year"
   ]
  },
  {
   "cell_type": "code",
   "execution_count": 178,
   "id": "ef8d3653-bcc4-4384-88f2-dc20b4c6b84a",
   "metadata": {},
   "outputs": [],
   "source": [
    "def subset_14(dfs, year, day_s, sub_size):\n",
    "    ##calculate end of subset\n",
    "    day_e, year_e = get_end(year, day_s, sub_size)\n",
    "\n",
    "    ## income from product per order\n",
    "    dfs['orders']['incomes'] = dfs['orders']['order_item_id']*dfs['orders']['price']\n",
    "    \n",
    "    ## orders till start date\n",
    "    orders_bef = dfs['orders'].loc[(dfs['orders']['purchase_year'] == year) & \n",
    "                                   (dfs['orders']['purchase_day'] <= day_s)]\n",
    "    ## orders from start date to end date\n",
    "    orders_act = dfs['orders'].loc[(dfs['orders']['purchase_year'] == year) & \n",
    "                                   (dfs['orders']['purchase_day'] >= day_s) & \n",
    "                                   (dfs['orders']['purchase_day'] <= day_e)]\n",
    "    \n",
    "## each dataframe consists \n",
    "##    mean values: delivery time, price and freight value\n",
    "##    sum values: incomes and number of ordered items\n",
    "\n",
    "    ## df with orders before start day\n",
    "    df_bef = orders_bef.groupby('product_id').agg({'delivery_time': 'mean', \n",
    "                                                   'price': 'mean', \n",
    "                                                   'order_item_id': 'sum', \n",
    "                                                   'incomes': 'sum',\n",
    "                                                   'freight_value': 'mean'})\n",
    "    ## df with orders from start date to end date\n",
    "    df_act = orders_act.groupby('product_id').agg({'delivery_time': 'mean', \n",
    "                                                   'price': 'mean', \n",
    "                                                   'order_item_id': 'sum', \n",
    "                                                   'incomes': 'sum',\n",
    "                                                   'freight_value': 'mean'})\n",
    "                                \n",
    "## same information collected for each seller\n",
    "\n",
    "    ## df with orders before start day\n",
    "    df_bef_per_seller = orders_bef.groupby(['product_id', 'seller_id']).agg({'delivery_time': 'mean', \n",
    "                                                                             'price': 'mean', \n",
    "                                                                             'order_item_id': 'sum',\n",
    "                                                                             'incomes': 'sum',\n",
    "                                                                             'freight_value': 'mean'})\n",
    "    ## df with orders before start day\n",
    "    df_act_per_seller = orders_act.groupby(['product_id', 'seller_id']).agg({'delivery_time': 'mean', \n",
    "                                                                             'price': 'mean', \n",
    "                                                                             'order_item_id': 'sum',\n",
    "                                                                             'incomes': 'sum',\n",
    "                                                                             'freight_value': 'mean'})\n",
    "    \n",
    "        \n",
    "    print(df_bef.head(10))\n",
    "    "
   ]
  },
  {
   "cell_type": "code",
   "execution_count": 180,
   "id": "2cbb43db-bb44-4667-8202-8fc22b6a9251",
   "metadata": {
    "collapsed": true,
    "jupyter": {
     "outputs_hidden": true
    }
   },
   "outputs": [
    {
     "name": "stdout",
     "output_type": "stream",
     "text": [
      "product_id\n",
      "062619359d5f9a664606cb2a6ccb477a    0.0\n",
      "0c5801458e74f9b6c23b44c331426e30    0.0\n",
      "0f3c8906e5b08127d539956bc587074c    0.0\n",
      "107177bf61755f05c604fe57e02467d6    0.0\n",
      "201ec8e4fb8456dd06265be68eb419a7    0.0\n",
      "2235d08138bfce7801a73463a3168ea5    0.0\n",
      "27051f70cfcbd63fec388f34e1f0d2a2    0.0\n",
      "29bedbfbe73ea473396306b4f0c010ec    0.0\n",
      "33430c5c1027d812b5c62f778e5ee7f7    0.0\n",
      "3410cbd7df2130ec3cb9300ef0fe3df1    0.0\n",
      "Name: delivery_time, dtype: float64\n"
     ]
    }
   ],
   "source": [
    "subset_14(dfs, year_start, day_start+30, subset_size)"
   ]
  },
  {
   "cell_type": "code",
   "execution_count": 5,
   "id": "8494a616-b452-41d1-a74f-09dc86509daf",
   "metadata": {},
   "outputs": [
    {
     "data": {
      "text/html": [
       "<div>\n",
       "<style scoped>\n",
       "    .dataframe tbody tr th:only-of-type {\n",
       "        vertical-align: middle;\n",
       "    }\n",
       "\n",
       "    .dataframe tbody tr th {\n",
       "        vertical-align: top;\n",
       "    }\n",
       "\n",
       "    .dataframe thead th {\n",
       "        text-align: right;\n",
       "    }\n",
       "</style>\n",
       "<table border=\"1\" class=\"dataframe\">\n",
       "  <thead>\n",
       "    <tr style=\"text-align: right;\">\n",
       "      <th></th>\n",
       "      <th>order_id</th>\n",
       "      <th>order_item_id</th>\n",
       "      <th>product_id</th>\n",
       "      <th>seller_id</th>\n",
       "      <th>shipping_limit_date</th>\n",
       "      <th>price</th>\n",
       "      <th>freight_value</th>\n",
       "    </tr>\n",
       "  </thead>\n",
       "  <tbody>\n",
       "    <tr>\n",
       "      <th>0</th>\n",
       "      <td>00010242fe8c5a6d1ba2dd792cb16214</td>\n",
       "      <td>1</td>\n",
       "      <td>4244733e06e7ecb4970a6e2683c13e61</td>\n",
       "      <td>48436dade18ac8b2bce089ec2a041202</td>\n",
       "      <td>2017-09-19 09:45:35</td>\n",
       "      <td>58.90</td>\n",
       "      <td>13.29</td>\n",
       "    </tr>\n",
       "    <tr>\n",
       "      <th>1</th>\n",
       "      <td>00018f77f2f0320c557190d7a144bdd3</td>\n",
       "      <td>1</td>\n",
       "      <td>e5f2d52b802189ee658865ca93d83a8f</td>\n",
       "      <td>dd7ddc04e1b6c2c614352b383efe2d36</td>\n",
       "      <td>2017-05-03 11:05:13</td>\n",
       "      <td>239.90</td>\n",
       "      <td>19.93</td>\n",
       "    </tr>\n",
       "    <tr>\n",
       "      <th>2</th>\n",
       "      <td>000229ec398224ef6ca0657da4fc703e</td>\n",
       "      <td>1</td>\n",
       "      <td>c777355d18b72b67abbeef9df44fd0fd</td>\n",
       "      <td>5b51032eddd242adc84c38acab88f23d</td>\n",
       "      <td>2018-01-18 14:48:30</td>\n",
       "      <td>199.00</td>\n",
       "      <td>17.87</td>\n",
       "    </tr>\n",
       "    <tr>\n",
       "      <th>3</th>\n",
       "      <td>00024acbcdf0a6daa1e931b038114c75</td>\n",
       "      <td>1</td>\n",
       "      <td>7634da152a4610f1595efa32f14722fc</td>\n",
       "      <td>9d7a1d34a5052409006425275ba1c2b4</td>\n",
       "      <td>2018-08-15 10:10:18</td>\n",
       "      <td>12.99</td>\n",
       "      <td>12.79</td>\n",
       "    </tr>\n",
       "    <tr>\n",
       "      <th>4</th>\n",
       "      <td>00042b26cf59d7ce69dfabb4e55b4fd9</td>\n",
       "      <td>1</td>\n",
       "      <td>ac6c3623068f30de03045865e4e10089</td>\n",
       "      <td>df560393f3a51e74553ab94004ba5c87</td>\n",
       "      <td>2017-02-13 13:57:51</td>\n",
       "      <td>199.90</td>\n",
       "      <td>18.14</td>\n",
       "    </tr>\n",
       "  </tbody>\n",
       "</table>\n",
       "</div>"
      ],
      "text/plain": [
       "                           order_id  order_item_id  \\\n",
       "0  00010242fe8c5a6d1ba2dd792cb16214              1   \n",
       "1  00018f77f2f0320c557190d7a144bdd3              1   \n",
       "2  000229ec398224ef6ca0657da4fc703e              1   \n",
       "3  00024acbcdf0a6daa1e931b038114c75              1   \n",
       "4  00042b26cf59d7ce69dfabb4e55b4fd9              1   \n",
       "\n",
       "                         product_id                         seller_id  \\\n",
       "0  4244733e06e7ecb4970a6e2683c13e61  48436dade18ac8b2bce089ec2a041202   \n",
       "1  e5f2d52b802189ee658865ca93d83a8f  dd7ddc04e1b6c2c614352b383efe2d36   \n",
       "2  c777355d18b72b67abbeef9df44fd0fd  5b51032eddd242adc84c38acab88f23d   \n",
       "3  7634da152a4610f1595efa32f14722fc  9d7a1d34a5052409006425275ba1c2b4   \n",
       "4  ac6c3623068f30de03045865e4e10089  df560393f3a51e74553ab94004ba5c87   \n",
       "\n",
       "   shipping_limit_date   price  freight_value  \n",
       "0  2017-09-19 09:45:35   58.90          13.29  \n",
       "1  2017-05-03 11:05:13  239.90          19.93  \n",
       "2  2018-01-18 14:48:30  199.00          17.87  \n",
       "3  2018-08-15 10:10:18   12.99          12.79  \n",
       "4  2017-02-13 13:57:51  199.90          18.14  "
      ]
     },
     "execution_count": 5,
     "metadata": {},
     "output_type": "execute_result"
    }
   ],
   "source": [
    "dfs['order_items'].head()"
   ]
  },
  {
   "cell_type": "code",
   "execution_count": 100,
   "id": "73562ffb-518e-482c-8ec4-a7bf6e9bffae",
   "metadata": {},
   "outputs": [
    {
     "name": "stdout",
     "output_type": "stream",
     "text": [
      "end\n"
     ]
    }
   ],
   "source": [
    "year_start = dfs['orders'].sort_values(by='purchase_year')['purchase_year'].values[0]\n",
    "day_start =  dfs['orders'].sort_values(by=['purchase_year', 'purchase_day'])['purchase_day'].values[0]\n",
    "\n",
    "year_end =  dfs['orders'].sort_values(by='purchase_year', ascending = False)['purchase_year'].values[0]\n",
    "day_end =  dfs['orders'].sort_values(by=['purchase_year', 'purchase_day'], \n",
    "                                     ascending = [False, False])['purchase_day'].values[0]\n",
    "\n",
    "subset_size = 14\n",
    "\n",
    "start = True\n",
    "## go through all years and days, start parameter let start from proper day\n",
    "for year in range(year_start, year_end +1):\n",
    "    for day in range(0, 365):\n",
    "        if start:\n",
    "            day = day_start\n",
    "            start = False\n",
    "            pass\n",
    "        else:\n",
    "            if (day >= day_end)&(year>=year_end):\n",
    "                break\n",
    "            else:\n",
    "                df = subset_14(dfs, year, day, subset_size)\n",
    "\n",
    "                day = day + subset_size\n",
    "        break\n",
    "    break\n",
    "print(\"end\")\n",
    "                \n"
   ]
  },
  {
   "cell_type": "code",
   "execution_count": 81,
   "id": "c9f01a4f-e0d8-43fb-ab5b-ab1c35fff5cd",
   "metadata": {},
   "outputs": [
    {
     "name": "stdout",
     "output_type": "stream",
     "text": [
      "248\n"
     ]
    }
   ],
   "source": [
    "print(day_start)"
   ]
  }
 ],
 "metadata": {
  "kernelspec": {
   "display_name": "Python 3 (ipykernel)",
   "language": "python",
   "name": "python3"
  },
  "language_info": {
   "codemirror_mode": {
    "name": "ipython",
    "version": 3
   },
   "file_extension": ".py",
   "mimetype": "text/x-python",
   "name": "python",
   "nbconvert_exporter": "python",
   "pygments_lexer": "ipython3",
   "version": "3.12.1"
  }
 },
 "nbformat": 4,
 "nbformat_minor": 5
}
